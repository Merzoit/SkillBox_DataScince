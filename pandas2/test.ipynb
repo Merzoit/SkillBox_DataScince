{
 "cells": [
  {
   "cell_type": "markdown",
   "metadata": {},
   "source": [
    "### Задание 1\n",
    "\n",
    "Загрузить датафрейм из файла `wgi_fh.csv`, учитывая, что в качестве разделителя столбцов используется точка с запятой, а в качестве десятичного разделителя – запятая (опции `sep=` и `decimal=` в функции `read_csv()` соответственно).\n",
    "\n",
    "Файл содержит данные за 2016 по различным политологическим индексам. Датафрейм содержит следующие столбцы:\n",
    "\n",
    "* `country`: страна;\n",
    "* `cnt_code`: код страны (аббревиатура);\n",
    "* `year`: год;\n",
    "* `va`: индекс подотчётности *Voice & Accountability (WGI)*;\n",
    "* `ps`: индекс политической стабильности *Political Stability and Lack of Violence (WGI)*;\n",
    "* `ge`: индекс эффективности правительства *Government Effectiveness (WGI)*;\n",
    "* `rq`: индекс качества управления *Regulatory Quality (WGI)*;\n",
    "* `rl`: индекс верховенства закона *Rule of Law (WGI)*;\n",
    "* `cc`: индекс контроля коррупции *Control of Corruption (WGI)*;\n",
    "* `fh`: индекс свободы *Freedom House (Freedom Rating)*.\n",
    "\n",
    "Подробнее про индексы можно почитать на этой [странице](https://www.hse.ru/org/hse/4432173/mathbase/databases/db_18).\n"
   ]
  },
  {
   "cell_type": "code",
   "execution_count": 1,
   "metadata": {},
   "outputs": [],
   "source": [
    "import pandas as pd"
   ]
  },
  {
   "cell_type": "code",
   "execution_count": 2,
   "metadata": {},
   "outputs": [],
   "source": [
    "data = pd.read_csv(\"wgi_fh.csv\", sep=\";\", decimal=\",\")"
   ]
  },
  {
   "cell_type": "markdown",
   "metadata": {},
   "source": [
    "### Задание 2\n",
    "\n",
    "Вывести общую информацию по датафрейму: число строк и столбцов, типы данных в таблице. Есть ли в таблице пропущенные значения? Привести код и дать ответ в виде комментария.\n"
   ]
  },
  {
   "cell_type": "code",
   "execution_count": 5,
   "metadata": {},
   "outputs": [
    {
     "name": "stdout",
     "output_type": "stream",
     "text": [
      "<class 'pandas.core.frame.DataFrame'>\n",
      "RangeIndex: 214 entries, 0 to 213\n",
      "Data columns (total 10 columns):\n",
      " #   Column    Non-Null Count  Dtype  \n",
      "---  ------    --------------  -----  \n",
      " 0   country   214 non-null    object \n",
      " 1   cnt_code  214 non-null    object \n",
      " 2   year      214 non-null    int64  \n",
      " 3   va        204 non-null    float64\n",
      " 4   ps        211 non-null    float64\n",
      " 5   ge        209 non-null    float64\n",
      " 6   rq        209 non-null    float64\n",
      " 7   rl        209 non-null    float64\n",
      " 8   cc        209 non-null    float64\n",
      " 9   fh        197 non-null    float64\n",
      "dtypes: float64(7), int64(1), object(2)\n",
      "memory usage: 16.8+ KB\n"
     ]
    }
   ],
   "source": [
    "data.info()\n",
    "#В таблице 214 строк и 10 колонок. В таблице есть пропущенные значения."
   ]
  },
  {
   "cell_type": "markdown",
   "metadata": {},
   "source": [
    "### Задание 3\n",
    "\n",
    "Если в датафрейме есть строки с пропущенными значениями, удалить их. Сохранить изменения в исходном датафрейме."
   ]
  },
  {
   "cell_type": "code",
   "execution_count": 7,
   "metadata": {},
   "outputs": [],
   "source": [
    "data.dropna(inplace=True)"
   ]
  },
  {
   "cell_type": "markdown",
   "metadata": {},
   "source": [
    "### Задание 4\n",
    "\n",
    "Назвать строки в датафрейме в соответствии со столбцом `cnt_code`. Удалить данный столбец из датафрейма."
   ]
  },
  {
   "cell_type": "code",
   "execution_count": 10,
   "metadata": {},
   "outputs": [],
   "source": [
    "data.set_index(data[\"cnt_code\"])\n",
    "data.drop(columns=[\"cnt_code\"], axis=1, inplace=True)"
   ]
  },
  {
   "cell_type": "markdown",
   "metadata": {},
   "source": [
    "### Задание 5\n",
    "\n",
    "Отсортировать строки в таблице в соответствии со значениями столбцов с индексами *Control of Corruption*  и *Voice & Accountability* таким образом, чтобы результаты сортировки были сохранены сразу в исходном датафрейме."
   ]
  },
  {
   "cell_type": "code",
   "execution_count": 13,
   "metadata": {},
   "outputs": [],
   "source": [
    "data.sort_values([\"cc\", \"va\"], inplace=True)"
   ]
  },
  {
   "cell_type": "markdown",
   "metadata": {},
   "source": [
    "### Задание 6\n",
    "\n",
    "Используя метод `.apply()`, создать столбец `cc_round` со значениями индекса *Control of Corruption*, округлёнными до первого знака после запятой. "
   ]
  },
  {
   "cell_type": "code",
   "execution_count": 14,
   "metadata": {},
   "outputs": [],
   "source": [
    "f = lambda x: round(x, 1)\n",
    "data[\"cc_round\"] = data[\"cc\"].apply(f)"
   ]
  },
  {
   "cell_type": "markdown",
   "metadata": {},
   "source": [
    "### Задание 7\n",
    "\n",
    "Добавить в датафрейм столбец `fh_status`, в котором будут храниться типы стран в зависимости от значения индекса *Freedom House* (значения типов стран: `\"free\"`, `\"partly free\"`, `\"not free\"`). Соответствие значений `fh` типам стран см. в Table 3 в конце [этой](https://freedomhouse.org/sites/default/files/2020-02/Methodology_FIW_2016.pdf) страницы.\n",
    "\n",
    "**Подсказка:** здесь понадобится функция, которая возвращает разные значения в зависимости от выполнения условий. Её можно написать через `def` или `lambda`. Больше про функции можно почитать на [pythontutor.ru](https://pythontutor.ru/lessons/functions/)."
   ]
  },
  {
   "cell_type": "code",
   "execution_count": 27,
   "metadata": {},
   "outputs": [],
   "source": [
    "def c_status(x):\n",
    "    if (1.0 <= x) & (x <= 2.5):\n",
    "        return \"Free\"\n",
    "    elif (3.0 <= x) & (x <= 5.0):\n",
    "        return \"Partle Free\"\n",
    "    elif (5.5 <= x) & (x <= 7.0):\n",
    "        return \"Not Free\"\n",
    "    \n",
    "data[\"fh_status\"] = data[\"fh\"].apply(c_status)"
   ]
  },
  {
   "cell_type": "markdown",
   "metadata": {},
   "source": [
    "### Задание 8\n",
    "\n",
    "Сгруппировать строки в датафрейме в соответствии со значениями столбца `fh_status`, полученного в предыдущем задании и вывести минимальное, среднее и максимальное значение показателя *Political Stability and Lack of Violence* по каждой группе."
   ]
  },
  {
   "cell_type": "code",
   "execution_count": 44,
   "metadata": {},
   "outputs": [],
   "source": [
    "list = [data.groupby(\"fh_status\")[\"ps\"].mean(),\n",
    "    data.groupby(\"fh_status\")[\"ps\"].min(),\n",
    "    data.groupby(\"fh_status\")[\"ps\"].max()]"
   ]
  },
  {
   "cell_type": "markdown",
   "metadata": {},
   "source": [
    "### Задание 9\n",
    "\n",
    "Сгруппировать строки в датафрейме в соответствии со значениями столбца `fh_status` и записать строки, относящиеся к разным группам, в отдельные csv-файлы.\n",
    "\n",
    "**Подсказка 1:** цикл `for`.\n",
    "\n",
    "**Подсказка 2:**  [метод](https://pandas.pydata.org/pandas-docs/stable/reference/api/pandas.DataFrame.to_csv.html) `.to_csv()` для выгрузки датафреймов `pandas` в csv-файлы."
   ]
  },
  {
   "cell_type": "code",
   "execution_count": 52,
   "metadata": {},
   "outputs": [],
   "source": [
    "a = data.groupby(\"fh_status\")\n",
    "for i, y in a:\n",
    "    y.to_csv(f\"{i}.csv\")"
   ]
  },
  {
   "cell_type": "markdown",
   "metadata": {},
   "source": [
    "### Задание 10\n",
    "\n",
    "Создайте (любым способом) маленький датафрейм, состоящий из двух столбцов:\n",
    "\n",
    "* `fh_type`: тип страны;\n",
    "* `count`: число стран данного типа.\n",
    "\n",
    "    Постройте, используя полученный датафрейм, столбиковую диаграмму (*barplot*), опираясь на [эту](https://pandas.pydata.org/pandas-docs/stable/reference/api/pandas.DataFrame.plot.bar.html) документацию. Чтобы увидеть график явно, прямо в текущем ноутбуке, допишите в начале ячейки с кодом для графика следующую строку:\n",
    "    \n",
    "        %matplotlib inline\n",
    "\n",
    "**Подсказка:** число наблюдений — это функция `count`, её можно использовать наравне с `min`, `mean` и прочими."
   ]
  },
  {
   "cell_type": "code",
   "execution_count": 58,
   "metadata": {},
   "outputs": [
    {
     "data": {
      "text/plain": [
       "74     Not Free\n",
       "174    Not Free\n",
       "208    Not Free\n",
       "167    Not Free\n",
       "32     Not Free\n",
       "         ...   \n",
       "144        Free\n",
       "179        Free\n",
       "54         Free\n",
       "63         Free\n",
       "147        Free\n",
       "Name: fh_status, Length: 195, dtype: object"
      ]
     },
     "execution_count": 58,
     "metadata": {},
     "output_type": "execute_result"
    }
   ],
   "source": [
    "df = data[\"fh_status\"]\n",
    "df"
   ]
  },
  {
   "cell_type": "code",
   "execution_count": null,
   "metadata": {},
   "outputs": [],
   "source": []
  }
 ],
 "metadata": {
  "kernelspec": {
   "display_name": "Python 3",
   "language": "python",
   "name": "python3"
  },
  "language_info": {
   "codemirror_mode": {
    "name": "ipython",
    "version": 3
   },
   "file_extension": ".py",
   "mimetype": "text/x-python",
   "name": "python",
   "nbconvert_exporter": "python",
   "pygments_lexer": "ipython3",
   "version": "3.10.5"
  }
 },
 "nbformat": 4,
 "nbformat_minor": 2
}
